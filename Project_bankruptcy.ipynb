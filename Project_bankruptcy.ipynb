{
 "cells": [
  {
   "cell_type": "markdown",
   "id": "86e40dba",
   "metadata": {},
   "source": [
    "# Import the libraries and dataset"
   ]
  },
  {
   "cell_type": "code",
   "execution_count": 149,
   "id": "2cffd283",
   "metadata": {
    "ExecuteTime": {
     "end_time": "2021-11-11T11:00:59.367212Z",
     "start_time": "2021-11-11T11:00:59.358237Z"
    }
   },
   "outputs": [],
   "source": [
    "import pandas as pd \n",
    "import numpy as np\n",
    "import matplotlib.pyplot as plt\n",
    "import seaborn as sn"
   ]
  },
  {
   "cell_type": "code",
   "execution_count": 150,
   "id": "093fcfeb",
   "metadata": {
    "ExecuteTime": {
     "end_time": "2021-11-11T11:00:59.601717Z",
     "start_time": "2021-11-11T11:00:59.369209Z"
    }
   },
   "outputs": [
    {
     "data": {
      "text/html": [
       "<div>\n",
       "<style scoped>\n",
       "    .dataframe tbody tr th:only-of-type {\n",
       "        vertical-align: middle;\n",
       "    }\n",
       "\n",
       "    .dataframe tbody tr th {\n",
       "        vertical-align: top;\n",
       "    }\n",
       "\n",
       "    .dataframe thead th {\n",
       "        text-align: right;\n",
       "    }\n",
       "</style>\n",
       "<table border=\"1\" class=\"dataframe\">\n",
       "  <thead>\n",
       "    <tr style=\"text-align: right;\">\n",
       "      <th></th>\n",
       "      <th>industrial_risk</th>\n",
       "      <th>management_risk</th>\n",
       "      <th>financial_flexibility</th>\n",
       "      <th>credibility</th>\n",
       "      <th>competitiveness</th>\n",
       "      <th>operating_risk</th>\n",
       "      <th>class</th>\n",
       "    </tr>\n",
       "  </thead>\n",
       "  <tbody>\n",
       "    <tr>\n",
       "      <th>0</th>\n",
       "      <td>0.5</td>\n",
       "      <td>1.0</td>\n",
       "      <td>0.0</td>\n",
       "      <td>0.0</td>\n",
       "      <td>0.0</td>\n",
       "      <td>0.5</td>\n",
       "      <td>bankruptcy</td>\n",
       "    </tr>\n",
       "    <tr>\n",
       "      <th>1</th>\n",
       "      <td>0.0</td>\n",
       "      <td>1.0</td>\n",
       "      <td>0.0</td>\n",
       "      <td>0.0</td>\n",
       "      <td>0.0</td>\n",
       "      <td>1.0</td>\n",
       "      <td>bankruptcy</td>\n",
       "    </tr>\n",
       "    <tr>\n",
       "      <th>2</th>\n",
       "      <td>1.0</td>\n",
       "      <td>0.0</td>\n",
       "      <td>0.0</td>\n",
       "      <td>0.0</td>\n",
       "      <td>0.0</td>\n",
       "      <td>1.0</td>\n",
       "      <td>bankruptcy</td>\n",
       "    </tr>\n",
       "    <tr>\n",
       "      <th>3</th>\n",
       "      <td>0.5</td>\n",
       "      <td>0.0</td>\n",
       "      <td>0.0</td>\n",
       "      <td>0.5</td>\n",
       "      <td>0.0</td>\n",
       "      <td>1.0</td>\n",
       "      <td>bankruptcy</td>\n",
       "    </tr>\n",
       "    <tr>\n",
       "      <th>4</th>\n",
       "      <td>1.0</td>\n",
       "      <td>1.0</td>\n",
       "      <td>0.0</td>\n",
       "      <td>0.0</td>\n",
       "      <td>0.0</td>\n",
       "      <td>1.0</td>\n",
       "      <td>bankruptcy</td>\n",
       "    </tr>\n",
       "  </tbody>\n",
       "</table>\n",
       "</div>"
      ],
      "text/plain": [
       "   industrial_risk   management_risk   financial_flexibility   credibility  \\\n",
       "0              0.5               1.0                     0.0           0.0   \n",
       "1              0.0               1.0                     0.0           0.0   \n",
       "2              1.0               0.0                     0.0           0.0   \n",
       "3              0.5               0.0                     0.0           0.5   \n",
       "4              1.0               1.0                     0.0           0.0   \n",
       "\n",
       "    competitiveness   operating_risk       class  \n",
       "0               0.0              0.5  bankruptcy  \n",
       "1               0.0              1.0  bankruptcy  \n",
       "2               0.0              1.0  bankruptcy  \n",
       "3               0.0              1.0  bankruptcy  \n",
       "4               0.0              1.0  bankruptcy  "
      ]
     },
     "execution_count": 150,
     "metadata": {},
     "output_type": "execute_result"
    }
   ],
   "source": [
    "bank = pd.read_csv('H:/Excelr/Project/project_data/bankruptcy-prevention.csv', sep=';')\n",
    "bank.head()"
   ]
  },
  {
   "cell_type": "markdown",
   "id": "57c26d82",
   "metadata": {},
   "source": [
    "# Exploratory data analysis "
   ]
  },
  {
   "cell_type": "markdown",
   "id": "7de8e75c",
   "metadata": {},
   "source": [
    "So we have imported dataset, now let's take a look on it.\n",
    "\n",
    "we are first getting info on dataset\n",
    "\n",
    "**We will check the following points for data validation**:\n",
    "1. NaN values\n",
    "2. Typing errors\n",
    "3. Duplicate values\n",
    "4. Mixed datatype\n",
    "5. Membership constraint (blood group can't be D+)\n",
    "6. Regular expression patterns (like mobile no have 10 digits (in india))\n",
    "7. Cross field validation (like admission data come before discharge)\n",
    "8. Empty cell or row or column.\n",
    "\n",
    "After following the steps given above, result in clean and uniform dataset.\n",
    "\n",
    "**Now we can explore and visualize the following things:**\n",
    "1. Distribution of data.\n",
    "2. outliers detection and replacement if necessary.\n",
    "3. Use Boxplot, Density plot, Histogram to get more detail regarding data **concentration, distribution, skewness, outliers, range etc**\n",
    "4. Check the Correlation between the variables.\n",
    "5. **Use scatterplot and PCA method** with hue to get insides regarding the decision boundary in case of **classification problem**.\n",
    "6. We can use K-mean clustering method to get some insides for selection of model in classification case.\n",
    "7. Perform the remaining Univariate, Multi-variate with graphical and non-graphical method."
   ]
  },
  {
   "cell_type": "code",
   "execution_count": 151,
   "id": "f6061890",
   "metadata": {
    "ExecuteTime": {
     "end_time": "2021-11-11T11:00:59.696464Z",
     "start_time": "2021-11-11T11:00:59.604709Z"
    },
    "scrolled": false
   },
   "outputs": [
    {
     "name": "stdout",
     "output_type": "stream",
     "text": [
      "<class 'pandas.core.frame.DataFrame'>\n",
      "RangeIndex: 250 entries, 0 to 249\n",
      "Data columns (total 7 columns):\n",
      " #   Column                  Non-Null Count  Dtype  \n",
      "---  ------                  --------------  -----  \n",
      " 0   industrial_risk         250 non-null    float64\n",
      " 1    management_risk        250 non-null    float64\n",
      " 2    financial_flexibility  250 non-null    float64\n",
      " 3    credibility            250 non-null    float64\n",
      " 4    competitiveness        250 non-null    float64\n",
      " 5    operating_risk         250 non-null    float64\n",
      " 6    class                  250 non-null    object \n",
      "dtypes: float64(6), object(1)\n",
      "memory usage: 13.8+ KB\n"
     ]
    }
   ],
   "source": [
    "bank.info()"
   ]
  },
  {
   "cell_type": "markdown",
   "id": "0f433074",
   "metadata": {},
   "source": [
    "> Looks like there is a problem in the names of the columns there is a **space** at starting of the name of columns, so we need to correct it first.\n",
    "\n",
    "> So there is no null values and the columns data is in same type (float) so there is no chances for having null values in other formal like in string or symbolic "
   ]
  },
  {
   "cell_type": "code",
   "execution_count": 152,
   "id": "0141745d",
   "metadata": {
    "ExecuteTime": {
     "end_time": "2021-11-11T11:00:59.839888Z",
     "start_time": "2021-11-11T11:00:59.699456Z"
    },
    "scrolled": true
   },
   "outputs": [
    {
     "name": "stdout",
     "output_type": "stream",
     "text": [
      "industrial_risk\n",
      " management_risk\n",
      " financial_flexibility\n",
      " credibility\n",
      " competitiveness\n",
      " operating_risk\n",
      " class\n"
     ]
    },
    {
     "data": {
      "text/html": [
       "<div>\n",
       "<style scoped>\n",
       "    .dataframe tbody tr th:only-of-type {\n",
       "        vertical-align: middle;\n",
       "    }\n",
       "\n",
       "    .dataframe tbody tr th {\n",
       "        vertical-align: top;\n",
       "    }\n",
       "\n",
       "    .dataframe thead th {\n",
       "        text-align: right;\n",
       "    }\n",
       "</style>\n",
       "<table border=\"1\" class=\"dataframe\">\n",
       "  <thead>\n",
       "    <tr style=\"text-align: right;\">\n",
       "      <th></th>\n",
       "      <th>industrial_risk</th>\n",
       "      <th>management_risk</th>\n",
       "      <th>financial_flexibility</th>\n",
       "      <th>credibility</th>\n",
       "      <th>competitiveness</th>\n",
       "      <th>operating_risk</th>\n",
       "      <th>class</th>\n",
       "    </tr>\n",
       "  </thead>\n",
       "  <tbody>\n",
       "    <tr>\n",
       "      <th>0</th>\n",
       "      <td>0.5</td>\n",
       "      <td>1.0</td>\n",
       "      <td>0.0</td>\n",
       "      <td>0.0</td>\n",
       "      <td>0.0</td>\n",
       "      <td>0.5</td>\n",
       "      <td>bankruptcy</td>\n",
       "    </tr>\n",
       "    <tr>\n",
       "      <th>1</th>\n",
       "      <td>0.0</td>\n",
       "      <td>1.0</td>\n",
       "      <td>0.0</td>\n",
       "      <td>0.0</td>\n",
       "      <td>0.0</td>\n",
       "      <td>1.0</td>\n",
       "      <td>bankruptcy</td>\n",
       "    </tr>\n",
       "  </tbody>\n",
       "</table>\n",
       "</div>"
      ],
      "text/plain": [
       "   industrial_risk  management_risk  financial_flexibility  credibility  \\\n",
       "0              0.5              1.0                    0.0          0.0   \n",
       "1              0.0              1.0                    0.0          0.0   \n",
       "\n",
       "   competitiveness  operating_risk       class  \n",
       "0              0.0             0.5  bankruptcy  \n",
       "1              0.0             1.0  bankruptcy  "
      ]
     },
     "execution_count": 152,
     "metadata": {},
     "output_type": "execute_result"
    }
   ],
   "source": [
    "colm = []\n",
    "for col in bank.columns:\n",
    "    print(col)\n",
    "    col=col.strip()\n",
    "    colm.append(col)\n",
    " \n",
    "bank.columns = colm\n",
    "bank.head(2)"
   ]
  },
  {
   "cell_type": "code",
   "execution_count": 153,
   "id": "36826837",
   "metadata": {
    "ExecuteTime": {
     "end_time": "2021-11-11T11:00:59.947961Z",
     "start_time": "2021-11-11T11:00:59.841880Z"
    }
   },
   "outputs": [],
   "source": [
    "bank.rename(columns= {'class': 'target_variable'}, inplace=True)"
   ]
  },
  {
   "cell_type": "code",
   "execution_count": 154,
   "id": "cd2dc615",
   "metadata": {
    "ExecuteTime": {
     "end_time": "2021-11-11T11:01:00.071060Z",
     "start_time": "2021-11-11T11:00:59.957931Z"
    }
   },
   "outputs": [
    {
     "data": {
      "text/html": [
       "<div>\n",
       "<style scoped>\n",
       "    .dataframe tbody tr th:only-of-type {\n",
       "        vertical-align: middle;\n",
       "    }\n",
       "\n",
       "    .dataframe tbody tr th {\n",
       "        vertical-align: top;\n",
       "    }\n",
       "\n",
       "    .dataframe thead th {\n",
       "        text-align: right;\n",
       "    }\n",
       "</style>\n",
       "<table border=\"1\" class=\"dataframe\">\n",
       "  <thead>\n",
       "    <tr style=\"text-align: right;\">\n",
       "      <th></th>\n",
       "      <th>industrial_risk</th>\n",
       "      <th>management_risk</th>\n",
       "      <th>financial_flexibility</th>\n",
       "      <th>credibility</th>\n",
       "      <th>competitiveness</th>\n",
       "      <th>operating_risk</th>\n",
       "      <th>target_variable</th>\n",
       "    </tr>\n",
       "  </thead>\n",
       "  <tbody>\n",
       "    <tr>\n",
       "      <th>248</th>\n",
       "      <td>1.0</td>\n",
       "      <td>0.0</td>\n",
       "      <td>0.5</td>\n",
       "      <td>1.0</td>\n",
       "      <td>0.5</td>\n",
       "      <td>0.0</td>\n",
       "      <td>non-bankruptcy</td>\n",
       "    </tr>\n",
       "    <tr>\n",
       "      <th>249</th>\n",
       "      <td>1.0</td>\n",
       "      <td>0.0</td>\n",
       "      <td>0.5</td>\n",
       "      <td>0.5</td>\n",
       "      <td>1.0</td>\n",
       "      <td>1.0</td>\n",
       "      <td>non-bankruptcy</td>\n",
       "    </tr>\n",
       "  </tbody>\n",
       "</table>\n",
       "</div>"
      ],
      "text/plain": [
       "     industrial_risk  management_risk  financial_flexibility  credibility  \\\n",
       "248              1.0              0.0                    0.5          1.0   \n",
       "249              1.0              0.0                    0.5          0.5   \n",
       "\n",
       "     competitiveness  operating_risk target_variable  \n",
       "248              0.5             0.0  non-bankruptcy  \n",
       "249              1.0             1.0  non-bankruptcy  "
      ]
     },
     "execution_count": 154,
     "metadata": {},
     "output_type": "execute_result"
    }
   ],
   "source": [
    "bank.tail(2 )"
   ]
  },
  {
   "cell_type": "markdown",
   "id": "db414096",
   "metadata": {},
   "source": [
    "### Let's check for **NaN values**"
   ]
  },
  {
   "cell_type": "code",
   "execution_count": 155,
   "id": "edd20825",
   "metadata": {
    "ExecuteTime": {
     "end_time": "2021-11-11T11:01:00.195596Z",
     "start_time": "2021-11-11T11:01:00.075051Z"
    },
    "scrolled": false
   },
   "outputs": [
    {
     "data": {
      "text/plain": [
       "industrial_risk          0\n",
       "management_risk          0\n",
       "financial_flexibility    0\n",
       "credibility              0\n",
       "competitiveness          0\n",
       "operating_risk           0\n",
       "target_variable          0\n",
       "dtype: int64"
      ]
     },
     "execution_count": 155,
     "metadata": {},
     "output_type": "execute_result"
    }
   ],
   "source": [
    "bank.isnull().sum()"
   ]
  },
  {
   "cell_type": "markdown",
   "id": "9f00c6a2",
   "metadata": {},
   "source": [
    " We already have seen that there is not null values from info and also now from isnull() function"
   ]
  },
  {
   "cell_type": "code",
   "execution_count": 156,
   "id": "b52bc206",
   "metadata": {
    "ExecuteTime": {
     "end_time": "2021-11-11T11:01:00.320363Z",
     "start_time": "2021-11-11T11:01:00.207593Z"
    }
   },
   "outputs": [
    {
     "data": {
      "text/plain": [
       "1.0    89\n",
       "0.5    81\n",
       "0.0    80\n",
       "Name: industrial_risk, dtype: int64"
      ]
     },
     "execution_count": 156,
     "metadata": {},
     "output_type": "execute_result"
    }
   ],
   "source": [
    "bank['industrial_risk'].value_counts()"
   ]
  },
  {
   "cell_type": "code",
   "execution_count": 157,
   "id": "2835546a",
   "metadata": {
    "ExecuteTime": {
     "end_time": "2021-11-11T11:01:00.446065Z",
     "start_time": "2021-11-11T11:01:00.328341Z"
    }
   },
   "outputs": [
    {
     "data": {
      "text/plain": [
       "non-bankruptcy    143\n",
       "bankruptcy        107\n",
       "Name: target_variable, dtype: int64"
      ]
     },
     "execution_count": 157,
     "metadata": {},
     "output_type": "execute_result"
    }
   ],
   "source": [
    "bank['target_variable'].value_counts()"
   ]
  },
  {
   "cell_type": "markdown",
   "id": "f90c7142",
   "metadata": {},
   "source": [
    "### Checking for duplicate values"
   ]
  },
  {
   "cell_type": "code",
   "execution_count": 158,
   "id": "f6da90e1",
   "metadata": {
    "ExecuteTime": {
     "end_time": "2021-11-11T11:01:00.605914Z",
     "start_time": "2021-11-11T11:01:00.458031Z"
    },
    "scrolled": false
   },
   "outputs": [
    {
     "data": {
      "text/plain": [
       "(221, 7)"
      ]
     },
     "execution_count": 158,
     "metadata": {},
     "output_type": "execute_result"
    }
   ],
   "source": [
    "df_bank = bank[bank.duplicated(keep=False)].sort_values(['target_variable', 'industrial_risk', 'management_risk', 'financial_flexibility', 'credibility', 'operating_risk'])\n",
    "df_bank.shape"
   ]
  },
  {
   "cell_type": "markdown",
   "id": "9a5ba773",
   "metadata": {},
   "source": [
    "> In above DataFrame we are keeping the all duplicate values (**without droping first one**), so we get the DataFrame with 221 rows"
   ]
  },
  {
   "cell_type": "code",
   "execution_count": 159,
   "id": "ffc172ef",
   "metadata": {
    "ExecuteTime": {
     "end_time": "2021-11-11T11:01:00.762299Z",
     "start_time": "2021-11-11T11:01:00.608905Z"
    }
   },
   "outputs": [
    {
     "data": {
      "text/plain": [
       "(147, 7)"
      ]
     },
     "execution_count": 159,
     "metadata": {},
     "output_type": "execute_result"
    }
   ],
   "source": [
    "df_bank_remove = bank[bank.duplicated()].sort_values(['target_variable', 'industrial_risk', 'management_risk', 'financial_flexibility', 'credibility', 'operating_risk'])\n",
    "df_bank_remove.shape"
   ]
  },
  {
   "cell_type": "markdown",
   "id": "64d7f5c3",
   "metadata": {},
   "source": [
    "> And in above dataframe we removed (keeped as it is)the **First** duplicate values, which gives us 147 rows. Hence these are the rows we can **drop from original dataframe**."
   ]
  },
  {
   "cell_type": "markdown",
   "id": "fdaab297",
   "metadata": {
    "ExecuteTime": {
     "end_time": "2021-11-11T08:17:24.850051Z",
     "start_time": "2021-11-11T08:17:24.828112Z"
    }
   },
   "source": [
    "> 🤯🔍 **Careful** The dataframe given below shows us the count of duplicate rows with their respective values."
   ]
  },
  {
   "cell_type": "code",
   "execution_count": 160,
   "id": "7a152aa6",
   "metadata": {
    "ExecuteTime": {
     "end_time": "2021-11-11T11:01:00.871743Z",
     "start_time": "2021-11-11T11:01:00.766297Z"
    }
   },
   "outputs": [
    {
     "data": {
      "text/html": [
       "<div>\n",
       "<style scoped>\n",
       "    .dataframe tbody tr th:only-of-type {\n",
       "        vertical-align: middle;\n",
       "    }\n",
       "\n",
       "    .dataframe tbody tr th {\n",
       "        vertical-align: top;\n",
       "    }\n",
       "\n",
       "    .dataframe thead th {\n",
       "        text-align: right;\n",
       "    }\n",
       "</style>\n",
       "<table border=\"1\" class=\"dataframe\">\n",
       "  <thead>\n",
       "    <tr style=\"text-align: right;\">\n",
       "      <th></th>\n",
       "      <th></th>\n",
       "      <th></th>\n",
       "      <th></th>\n",
       "      <th></th>\n",
       "      <th></th>\n",
       "      <th></th>\n",
       "      <th>0</th>\n",
       "    </tr>\n",
       "    <tr>\n",
       "      <th>industrial_risk</th>\n",
       "      <th>management_risk</th>\n",
       "      <th>financial_flexibility</th>\n",
       "      <th>credibility</th>\n",
       "      <th>competitiveness</th>\n",
       "      <th>operating_risk</th>\n",
       "      <th>target_variable</th>\n",
       "      <th></th>\n",
       "    </tr>\n",
       "  </thead>\n",
       "  <tbody>\n",
       "    <tr>\n",
       "      <th>0.0</th>\n",
       "      <th>1.0</th>\n",
       "      <th>0.0</th>\n",
       "      <th>0.0</th>\n",
       "      <th>0.0</th>\n",
       "      <th>1.0</th>\n",
       "      <th>bankruptcy</th>\n",
       "      <td>11</td>\n",
       "    </tr>\n",
       "    <tr>\n",
       "      <th rowspan=\"2\" valign=\"top\">1.0</th>\n",
       "      <th rowspan=\"2\" valign=\"top\">1.0</th>\n",
       "      <th rowspan=\"2\" valign=\"top\">0.0</th>\n",
       "      <th rowspan=\"2\" valign=\"top\">0.0</th>\n",
       "      <th rowspan=\"2\" valign=\"top\">0.0</th>\n",
       "      <th>1.0</th>\n",
       "      <th>bankruptcy</th>\n",
       "      <td>10</td>\n",
       "    </tr>\n",
       "    <tr>\n",
       "      <th>0.5</th>\n",
       "      <th>bankruptcy</th>\n",
       "      <td>9</td>\n",
       "    </tr>\n",
       "    <tr>\n",
       "      <th rowspan=\"4\" valign=\"top\">0.5</th>\n",
       "      <th>1.0</th>\n",
       "      <th>0.0</th>\n",
       "      <th>0.0</th>\n",
       "      <th>0.0</th>\n",
       "      <th>1.0</th>\n",
       "      <th>bankruptcy</th>\n",
       "      <td>8</td>\n",
       "    </tr>\n",
       "    <tr>\n",
       "      <th rowspan=\"3\" valign=\"top\">0.5</th>\n",
       "      <th>0.0</th>\n",
       "      <th>0.0</th>\n",
       "      <th>0.0</th>\n",
       "      <th>1.0</th>\n",
       "      <th>bankruptcy</th>\n",
       "      <td>7</td>\n",
       "    </tr>\n",
       "    <tr>\n",
       "      <th>...</th>\n",
       "      <th>...</th>\n",
       "      <th>...</th>\n",
       "      <th>...</th>\n",
       "      <th>...</th>\n",
       "      <td>...</td>\n",
       "    </tr>\n",
       "    <tr>\n",
       "      <th>0.5</th>\n",
       "      <th>0.5</th>\n",
       "      <th>0.5</th>\n",
       "      <th>0.5</th>\n",
       "      <th>non-bankruptcy</th>\n",
       "      <td>2</td>\n",
       "    </tr>\n",
       "    <tr>\n",
       "      <th>0.0</th>\n",
       "      <th>0.0</th>\n",
       "      <th>0.5</th>\n",
       "      <th>0.5</th>\n",
       "      <th>1.0</th>\n",
       "      <th>0.0</th>\n",
       "      <th>non-bankruptcy</th>\n",
       "      <td>2</td>\n",
       "    </tr>\n",
       "    <tr>\n",
       "      <th rowspan=\"2\" valign=\"top\">0.5</th>\n",
       "      <th rowspan=\"2\" valign=\"top\">0.5</th>\n",
       "      <th rowspan=\"2\" valign=\"top\">0.5</th>\n",
       "      <th rowspan=\"2\" valign=\"top\">1.0</th>\n",
       "      <th>0.5</th>\n",
       "      <th>0.5</th>\n",
       "      <th>non-bankruptcy</th>\n",
       "      <td>2</td>\n",
       "    </tr>\n",
       "    <tr>\n",
       "      <th>1.0</th>\n",
       "      <th>0.0</th>\n",
       "      <th>non-bankruptcy</th>\n",
       "      <td>2</td>\n",
       "    </tr>\n",
       "    <tr>\n",
       "      <th>1.0</th>\n",
       "      <th>1.0</th>\n",
       "      <th>1.0</th>\n",
       "      <th>1.0</th>\n",
       "      <th>1.0</th>\n",
       "      <th>1.0</th>\n",
       "      <th>non-bankruptcy</th>\n",
       "      <td>2</td>\n",
       "    </tr>\n",
       "  </tbody>\n",
       "</table>\n",
       "<p>74 rows × 1 columns</p>\n",
       "</div>"
      ],
      "text/plain": [
       "                                                                                                                   0\n",
       "industrial_risk management_risk financial_flexibility credibility competitiveness operating_risk target_variable    \n",
       "0.0             1.0             0.0                   0.0         0.0             1.0            bankruptcy       11\n",
       "1.0             1.0             0.0                   0.0         0.0             1.0            bankruptcy       10\n",
       "                                                                                  0.5            bankruptcy        9\n",
       "0.5             1.0             0.0                   0.0         0.0             1.0            bankruptcy        8\n",
       "                0.5             0.0                   0.0         0.0             1.0            bankruptcy        7\n",
       "...                                                                                                               ..\n",
       "                                0.5                   0.5         0.5             0.5            non-bankruptcy    2\n",
       "0.0             0.0             0.5                   0.5         1.0             0.0            non-bankruptcy    2\n",
       "0.5             0.5             0.5                   1.0         0.5             0.5            non-bankruptcy    2\n",
       "                                                                  1.0             0.0            non-bankruptcy    2\n",
       "1.0             1.0             1.0                   1.0         1.0             1.0            non-bankruptcy    2\n",
       "\n",
       "[74 rows x 1 columns]"
      ]
     },
     "execution_count": 160,
     "metadata": {},
     "output_type": "execute_result"
    }
   ],
   "source": [
    "# This DataFrame is without dropping first occurance \n",
    "duplicate_without_remove = pd.DataFrame(df_bank.value_counts())\n",
    "duplicate_without_remove"
   ]
  },
  {
   "cell_type": "code",
   "execution_count": 161,
   "id": "507b7b8e",
   "metadata": {
    "ExecuteTime": {
     "end_time": "2021-11-11T11:01:01.089772Z",
     "start_time": "2021-11-11T11:01:00.873737Z"
    }
   },
   "outputs": [
    {
     "data": {
      "text/html": [
       "<div>\n",
       "<style scoped>\n",
       "    .dataframe tbody tr th:only-of-type {\n",
       "        vertical-align: middle;\n",
       "    }\n",
       "\n",
       "    .dataframe tbody tr th {\n",
       "        vertical-align: top;\n",
       "    }\n",
       "\n",
       "    .dataframe thead th {\n",
       "        text-align: right;\n",
       "    }\n",
       "</style>\n",
       "<table border=\"1\" class=\"dataframe\">\n",
       "  <thead>\n",
       "    <tr style=\"text-align: right;\">\n",
       "      <th></th>\n",
       "      <th></th>\n",
       "      <th></th>\n",
       "      <th></th>\n",
       "      <th></th>\n",
       "      <th></th>\n",
       "      <th></th>\n",
       "      <th>0</th>\n",
       "    </tr>\n",
       "    <tr>\n",
       "      <th>industrial_risk</th>\n",
       "      <th>management_risk</th>\n",
       "      <th>financial_flexibility</th>\n",
       "      <th>credibility</th>\n",
       "      <th>competitiveness</th>\n",
       "      <th>operating_risk</th>\n",
       "      <th>target_variable</th>\n",
       "      <th></th>\n",
       "    </tr>\n",
       "  </thead>\n",
       "  <tbody>\n",
       "    <tr>\n",
       "      <th>0.0</th>\n",
       "      <th>1.0</th>\n",
       "      <th>0.0</th>\n",
       "      <th>0.0</th>\n",
       "      <th>0.0</th>\n",
       "      <th>1.0</th>\n",
       "      <th>bankruptcy</th>\n",
       "      <td>10</td>\n",
       "    </tr>\n",
       "    <tr>\n",
       "      <th rowspan=\"2\" valign=\"top\">1.0</th>\n",
       "      <th rowspan=\"2\" valign=\"top\">1.0</th>\n",
       "      <th rowspan=\"2\" valign=\"top\">0.0</th>\n",
       "      <th rowspan=\"2\" valign=\"top\">0.0</th>\n",
       "      <th rowspan=\"2\" valign=\"top\">0.0</th>\n",
       "      <th>1.0</th>\n",
       "      <th>bankruptcy</th>\n",
       "      <td>9</td>\n",
       "    </tr>\n",
       "    <tr>\n",
       "      <th>0.5</th>\n",
       "      <th>bankruptcy</th>\n",
       "      <td>8</td>\n",
       "    </tr>\n",
       "    <tr>\n",
       "      <th rowspan=\"4\" valign=\"top\">0.5</th>\n",
       "      <th>1.0</th>\n",
       "      <th>0.0</th>\n",
       "      <th>0.0</th>\n",
       "      <th>0.0</th>\n",
       "      <th>1.0</th>\n",
       "      <th>bankruptcy</th>\n",
       "      <td>7</td>\n",
       "    </tr>\n",
       "    <tr>\n",
       "      <th rowspan=\"3\" valign=\"top\">0.5</th>\n",
       "      <th>0.0</th>\n",
       "      <th>0.0</th>\n",
       "      <th>0.0</th>\n",
       "      <th>1.0</th>\n",
       "      <th>bankruptcy</th>\n",
       "      <td>6</td>\n",
       "    </tr>\n",
       "    <tr>\n",
       "      <th>...</th>\n",
       "      <th>...</th>\n",
       "      <th>...</th>\n",
       "      <th>...</th>\n",
       "      <th>...</th>\n",
       "      <td>...</td>\n",
       "    </tr>\n",
       "    <tr>\n",
       "      <th>0.5</th>\n",
       "      <th>0.5</th>\n",
       "      <th>0.5</th>\n",
       "      <th>0.5</th>\n",
       "      <th>non-bankruptcy</th>\n",
       "      <td>1</td>\n",
       "    </tr>\n",
       "    <tr>\n",
       "      <th>0.0</th>\n",
       "      <th>0.0</th>\n",
       "      <th>0.5</th>\n",
       "      <th>0.5</th>\n",
       "      <th>1.0</th>\n",
       "      <th>0.0</th>\n",
       "      <th>non-bankruptcy</th>\n",
       "      <td>1</td>\n",
       "    </tr>\n",
       "    <tr>\n",
       "      <th rowspan=\"2\" valign=\"top\">0.5</th>\n",
       "      <th rowspan=\"2\" valign=\"top\">0.5</th>\n",
       "      <th rowspan=\"2\" valign=\"top\">0.5</th>\n",
       "      <th rowspan=\"2\" valign=\"top\">1.0</th>\n",
       "      <th>0.5</th>\n",
       "      <th>0.5</th>\n",
       "      <th>non-bankruptcy</th>\n",
       "      <td>1</td>\n",
       "    </tr>\n",
       "    <tr>\n",
       "      <th>1.0</th>\n",
       "      <th>0.0</th>\n",
       "      <th>non-bankruptcy</th>\n",
       "      <td>1</td>\n",
       "    </tr>\n",
       "    <tr>\n",
       "      <th>1.0</th>\n",
       "      <th>1.0</th>\n",
       "      <th>1.0</th>\n",
       "      <th>1.0</th>\n",
       "      <th>1.0</th>\n",
       "      <th>1.0</th>\n",
       "      <th>non-bankruptcy</th>\n",
       "      <td>1</td>\n",
       "    </tr>\n",
       "  </tbody>\n",
       "</table>\n",
       "<p>74 rows × 1 columns</p>\n",
       "</div>"
      ],
      "text/plain": [
       "                                                                                                                   0\n",
       "industrial_risk management_risk financial_flexibility credibility competitiveness operating_risk target_variable    \n",
       "0.0             1.0             0.0                   0.0         0.0             1.0            bankruptcy       10\n",
       "1.0             1.0             0.0                   0.0         0.0             1.0            bankruptcy        9\n",
       "                                                                                  0.5            bankruptcy        8\n",
       "0.5             1.0             0.0                   0.0         0.0             1.0            bankruptcy        7\n",
       "                0.5             0.0                   0.0         0.0             1.0            bankruptcy        6\n",
       "...                                                                                                               ..\n",
       "                                0.5                   0.5         0.5             0.5            non-bankruptcy    1\n",
       "0.0             0.0             0.5                   0.5         1.0             0.0            non-bankruptcy    1\n",
       "0.5             0.5             0.5                   1.0         0.5             0.5            non-bankruptcy    1\n",
       "                                                                  1.0             0.0            non-bankruptcy    1\n",
       "1.0             1.0             1.0                   1.0         1.0             1.0            non-bankruptcy    1\n",
       "\n",
       "[74 rows x 1 columns]"
      ]
     },
     "execution_count": 161,
     "metadata": {},
     "output_type": "execute_result"
    }
   ],
   "source": [
    "# This DataFrame is with dropping first occurance observation.\n",
    "duplicate_with_remove = pd.DataFrame(df_bank_remove.value_counts())\n",
    "duplicate_with_remove"
   ]
  },
  {
   "cell_type": "code",
   "execution_count": 162,
   "id": "2472f8aa",
   "metadata": {
    "ExecuteTime": {
     "end_time": "2021-11-11T11:01:01.151858Z",
     "start_time": "2021-11-11T11:01:01.091771Z"
    }
   },
   "outputs": [
    {
     "data": {
      "text/plain": [
       "147"
      ]
     },
     "execution_count": 162,
     "metadata": {},
     "output_type": "execute_result"
    }
   ],
   "source": [
    "duplicate_with_remove[0].sum()"
   ]
  },
  {
   "cell_type": "markdown",
   "id": "6e30f8d1",
   "metadata": {},
   "source": [
    "> **🙄🙄 what?? 147 duplicate rows**, let's check them out again."
   ]
  },
  {
   "cell_type": "code",
   "execution_count": 163,
   "id": "b97ed4d8",
   "metadata": {
    "ExecuteTime": {
     "end_time": "2021-11-11T11:01:01.260431Z",
     "start_time": "2021-11-11T11:01:01.153818Z"
    }
   },
   "outputs": [
    {
     "data": {
      "text/html": [
       "<div>\n",
       "<style scoped>\n",
       "    .dataframe tbody tr th:only-of-type {\n",
       "        vertical-align: middle;\n",
       "    }\n",
       "\n",
       "    .dataframe tbody tr th {\n",
       "        vertical-align: top;\n",
       "    }\n",
       "\n",
       "    .dataframe thead th {\n",
       "        text-align: right;\n",
       "    }\n",
       "</style>\n",
       "<table border=\"1\" class=\"dataframe\">\n",
       "  <thead>\n",
       "    <tr style=\"text-align: right;\">\n",
       "      <th></th>\n",
       "      <th>industrial_risk</th>\n",
       "      <th>management_risk</th>\n",
       "      <th>financial_flexibility</th>\n",
       "      <th>credibility</th>\n",
       "      <th>competitiveness</th>\n",
       "      <th>operating_risk</th>\n",
       "      <th>target_variable</th>\n",
       "    </tr>\n",
       "  </thead>\n",
       "  <tbody>\n",
       "    <tr>\n",
       "      <th>19</th>\n",
       "      <td>0.0</td>\n",
       "      <td>0.5</td>\n",
       "      <td>0.0</td>\n",
       "      <td>0.0</td>\n",
       "      <td>0.0</td>\n",
       "      <td>0.5</td>\n",
       "      <td>bankruptcy</td>\n",
       "    </tr>\n",
       "    <tr>\n",
       "      <th>79</th>\n",
       "      <td>0.0</td>\n",
       "      <td>0.5</td>\n",
       "      <td>0.0</td>\n",
       "      <td>0.0</td>\n",
       "      <td>0.0</td>\n",
       "      <td>0.5</td>\n",
       "      <td>bankruptcy</td>\n",
       "    </tr>\n",
       "  </tbody>\n",
       "</table>\n",
       "</div>"
      ],
      "text/plain": [
       "    industrial_risk  management_risk  financial_flexibility  credibility  \\\n",
       "19              0.0              0.5                    0.0          0.0   \n",
       "79              0.0              0.5                    0.0          0.0   \n",
       "\n",
       "    competitiveness  operating_risk target_variable  \n",
       "19              0.0             0.5      bankruptcy  \n",
       "79              0.0             0.5      bankruptcy  "
      ]
     },
     "execution_count": 163,
     "metadata": {},
     "output_type": "execute_result"
    }
   ],
   "source": [
    "bank[(bank.industrial_risk ==0) & (bank.management_risk == 0.5) & \n",
    "     (bank.financial_flexibility == 0) & (bank.credibility ==0) & (bank.operating_risk ==0.5)]"
   ]
  },
  {
   "cell_type": "code",
   "execution_count": 164,
   "id": "730e2c21",
   "metadata": {
    "ExecuteTime": {
     "end_time": "2021-11-11T11:01:01.400912Z",
     "start_time": "2021-11-11T11:01:01.264419Z"
    },
    "scrolled": true
   },
   "outputs": [
    {
     "data": {
      "text/html": [
       "<div>\n",
       "<style scoped>\n",
       "    .dataframe tbody tr th:only-of-type {\n",
       "        vertical-align: middle;\n",
       "    }\n",
       "\n",
       "    .dataframe tbody tr th {\n",
       "        vertical-align: top;\n",
       "    }\n",
       "\n",
       "    .dataframe thead th {\n",
       "        text-align: right;\n",
       "    }\n",
       "</style>\n",
       "<table border=\"1\" class=\"dataframe\">\n",
       "  <thead>\n",
       "    <tr style=\"text-align: right;\">\n",
       "      <th></th>\n",
       "      <th>industrial_risk</th>\n",
       "      <th>management_risk</th>\n",
       "      <th>financial_flexibility</th>\n",
       "      <th>credibility</th>\n",
       "      <th>competitiveness</th>\n",
       "      <th>operating_risk</th>\n",
       "      <th>target_variable</th>\n",
       "    </tr>\n",
       "  </thead>\n",
       "  <tbody>\n",
       "    <tr>\n",
       "      <th>0</th>\n",
       "      <td>0.5</td>\n",
       "      <td>1.0</td>\n",
       "      <td>0.0</td>\n",
       "      <td>0.0</td>\n",
       "      <td>0.0</td>\n",
       "      <td>0.5</td>\n",
       "      <td>bankruptcy</td>\n",
       "    </tr>\n",
       "    <tr>\n",
       "      <th>15</th>\n",
       "      <td>0.5</td>\n",
       "      <td>1.0</td>\n",
       "      <td>0.0</td>\n",
       "      <td>0.0</td>\n",
       "      <td>0.0</td>\n",
       "      <td>0.5</td>\n",
       "      <td>bankruptcy</td>\n",
       "    </tr>\n",
       "    <tr>\n",
       "      <th>16</th>\n",
       "      <td>0.5</td>\n",
       "      <td>1.0</td>\n",
       "      <td>0.0</td>\n",
       "      <td>0.0</td>\n",
       "      <td>0.0</td>\n",
       "      <td>0.5</td>\n",
       "      <td>bankruptcy</td>\n",
       "    </tr>\n",
       "    <tr>\n",
       "      <th>50</th>\n",
       "      <td>0.5</td>\n",
       "      <td>1.0</td>\n",
       "      <td>0.0</td>\n",
       "      <td>0.0</td>\n",
       "      <td>0.0</td>\n",
       "      <td>0.5</td>\n",
       "      <td>bankruptcy</td>\n",
       "    </tr>\n",
       "    <tr>\n",
       "      <th>92</th>\n",
       "      <td>0.5</td>\n",
       "      <td>1.0</td>\n",
       "      <td>0.0</td>\n",
       "      <td>0.0</td>\n",
       "      <td>0.0</td>\n",
       "      <td>0.5</td>\n",
       "      <td>bankruptcy</td>\n",
       "    </tr>\n",
       "  </tbody>\n",
       "</table>\n",
       "</div>"
      ],
      "text/plain": [
       "    industrial_risk  management_risk  financial_flexibility  credibility  \\\n",
       "0               0.5              1.0                    0.0          0.0   \n",
       "15              0.5              1.0                    0.0          0.0   \n",
       "16              0.5              1.0                    0.0          0.0   \n",
       "50              0.5              1.0                    0.0          0.0   \n",
       "92              0.5              1.0                    0.0          0.0   \n",
       "\n",
       "    competitiveness  operating_risk target_variable  \n",
       "0               0.0             0.5      bankruptcy  \n",
       "15              0.0             0.5      bankruptcy  \n",
       "16              0.0             0.5      bankruptcy  \n",
       "50              0.0             0.5      bankruptcy  \n",
       "92              0.0             0.5      bankruptcy  "
      ]
     },
     "execution_count": 164,
     "metadata": {},
     "output_type": "execute_result"
    }
   ],
   "source": [
    "bank[(bank.industrial_risk ==0.5) & (bank.management_risk == 1) & \n",
    "     (bank.financial_flexibility == 0) & (bank.credibility ==0) & (bank.operating_risk ==0.5)]"
   ]
  },
  {
   "cell_type": "markdown",
   "id": "b36cc870",
   "metadata": {},
   "source": [
    "**😯😐 there are lots of duplicate row**, This rows will affect the model, so we need to delete them"
   ]
  },
  {
   "cell_type": "code",
   "execution_count": 165,
   "id": "d7881072",
   "metadata": {
    "ExecuteTime": {
     "end_time": "2021-11-11T11:01:01.526907Z",
     "start_time": "2021-11-11T11:01:01.402900Z"
    }
   },
   "outputs": [
    {
     "data": {
      "text/html": [
       "<div>\n",
       "<style scoped>\n",
       "    .dataframe tbody tr th:only-of-type {\n",
       "        vertical-align: middle;\n",
       "    }\n",
       "\n",
       "    .dataframe tbody tr th {\n",
       "        vertical-align: top;\n",
       "    }\n",
       "\n",
       "    .dataframe thead th {\n",
       "        text-align: right;\n",
       "    }\n",
       "</style>\n",
       "<table border=\"1\" class=\"dataframe\">\n",
       "  <thead>\n",
       "    <tr style=\"text-align: right;\">\n",
       "      <th></th>\n",
       "      <th>index</th>\n",
       "      <th>industrial_risk</th>\n",
       "      <th>management_risk</th>\n",
       "      <th>financial_flexibility</th>\n",
       "      <th>credibility</th>\n",
       "      <th>competitiveness</th>\n",
       "      <th>operating_risk</th>\n",
       "      <th>target_variable</th>\n",
       "    </tr>\n",
       "  </thead>\n",
       "  <tbody>\n",
       "    <tr>\n",
       "      <th>98</th>\n",
       "      <td>185</td>\n",
       "      <td>0.0</td>\n",
       "      <td>0.5</td>\n",
       "      <td>0.0</td>\n",
       "      <td>0.5</td>\n",
       "      <td>1.0</td>\n",
       "      <td>0.5</td>\n",
       "      <td>non-bankruptcy</td>\n",
       "    </tr>\n",
       "    <tr>\n",
       "      <th>99</th>\n",
       "      <td>187</td>\n",
       "      <td>0.0</td>\n",
       "      <td>0.5</td>\n",
       "      <td>0.5</td>\n",
       "      <td>0.5</td>\n",
       "      <td>1.0</td>\n",
       "      <td>0.5</td>\n",
       "      <td>non-bankruptcy</td>\n",
       "    </tr>\n",
       "    <tr>\n",
       "      <th>100</th>\n",
       "      <td>190</td>\n",
       "      <td>0.0</td>\n",
       "      <td>0.5</td>\n",
       "      <td>0.5</td>\n",
       "      <td>0.0</td>\n",
       "      <td>1.0</td>\n",
       "      <td>0.0</td>\n",
       "      <td>non-bankruptcy</td>\n",
       "    </tr>\n",
       "    <tr>\n",
       "      <th>101</th>\n",
       "      <td>192</td>\n",
       "      <td>0.5</td>\n",
       "      <td>1.0</td>\n",
       "      <td>0.0</td>\n",
       "      <td>0.0</td>\n",
       "      <td>1.0</td>\n",
       "      <td>0.0</td>\n",
       "      <td>non-bankruptcy</td>\n",
       "    </tr>\n",
       "    <tr>\n",
       "      <th>102</th>\n",
       "      <td>194</td>\n",
       "      <td>0.0</td>\n",
       "      <td>1.0</td>\n",
       "      <td>0.5</td>\n",
       "      <td>0.0</td>\n",
       "      <td>0.5</td>\n",
       "      <td>0.0</td>\n",
       "      <td>non-bankruptcy</td>\n",
       "    </tr>\n",
       "  </tbody>\n",
       "</table>\n",
       "</div>"
      ],
      "text/plain": [
       "     index  industrial_risk  management_risk  financial_flexibility  \\\n",
       "98     185              0.0              0.5                    0.0   \n",
       "99     187              0.0              0.5                    0.5   \n",
       "100    190              0.0              0.5                    0.5   \n",
       "101    192              0.5              1.0                    0.0   \n",
       "102    194              0.0              1.0                    0.5   \n",
       "\n",
       "     credibility  competitiveness  operating_risk target_variable  \n",
       "98           0.5              1.0             0.5  non-bankruptcy  \n",
       "99           0.5              1.0             0.5  non-bankruptcy  \n",
       "100          0.0              1.0             0.0  non-bankruptcy  \n",
       "101          0.0              1.0             0.0  non-bankruptcy  \n",
       "102          0.0              0.5             0.0  non-bankruptcy  "
      ]
     },
     "execution_count": 165,
     "metadata": {},
     "output_type": "execute_result"
    }
   ],
   "source": [
    "bank_cleaned = bank.drop_duplicates().reset_index()\n",
    "bank_cleaned.tail()"
   ]
  },
  {
   "cell_type": "code",
   "execution_count": 166,
   "id": "c1465f52",
   "metadata": {
    "ExecuteTime": {
     "end_time": "2021-11-11T11:01:01.666882Z",
     "start_time": "2021-11-11T11:01:01.529899Z"
    }
   },
   "outputs": [],
   "source": [
    "bank_cleaned.drop('index', axis = 1, inplace= True)"
   ]
  },
  {
   "cell_type": "code",
   "execution_count": 167,
   "id": "2eeedb66",
   "metadata": {
    "ExecuteTime": {
     "end_time": "2021-11-11T11:01:01.793583Z",
     "start_time": "2021-11-11T11:01:01.675859Z"
    }
   },
   "outputs": [
    {
     "data": {
      "text/plain": [
       "(103, 7)"
      ]
     },
     "execution_count": 167,
     "metadata": {},
     "output_type": "execute_result"
    }
   ],
   "source": [
    "bank_cleaned.shape"
   ]
  },
  {
   "cell_type": "code",
   "execution_count": 168,
   "id": "8c68760d",
   "metadata": {
    "ExecuteTime": {
     "end_time": "2021-11-11T11:01:01.918564Z",
     "start_time": "2021-11-11T11:01:01.798570Z"
    }
   },
   "outputs": [
    {
     "data": {
      "text/html": [
       "<div>\n",
       "<style scoped>\n",
       "    .dataframe tbody tr th:only-of-type {\n",
       "        vertical-align: middle;\n",
       "    }\n",
       "\n",
       "    .dataframe tbody tr th {\n",
       "        vertical-align: top;\n",
       "    }\n",
       "\n",
       "    .dataframe thead th {\n",
       "        text-align: right;\n",
       "    }\n",
       "</style>\n",
       "<table border=\"1\" class=\"dataframe\">\n",
       "  <thead>\n",
       "    <tr style=\"text-align: right;\">\n",
       "      <th></th>\n",
       "      <th>industrial_risk</th>\n",
       "      <th>management_risk</th>\n",
       "      <th>financial_flexibility</th>\n",
       "      <th>credibility</th>\n",
       "      <th>competitiveness</th>\n",
       "      <th>operating_risk</th>\n",
       "      <th>target_variable</th>\n",
       "    </tr>\n",
       "  </thead>\n",
       "  <tbody>\n",
       "    <tr>\n",
       "      <th>98</th>\n",
       "      <td>0.0</td>\n",
       "      <td>0.5</td>\n",
       "      <td>0.0</td>\n",
       "      <td>0.5</td>\n",
       "      <td>1.0</td>\n",
       "      <td>0.5</td>\n",
       "      <td>non-bankruptcy</td>\n",
       "    </tr>\n",
       "    <tr>\n",
       "      <th>99</th>\n",
       "      <td>0.0</td>\n",
       "      <td>0.5</td>\n",
       "      <td>0.5</td>\n",
       "      <td>0.5</td>\n",
       "      <td>1.0</td>\n",
       "      <td>0.5</td>\n",
       "      <td>non-bankruptcy</td>\n",
       "    </tr>\n",
       "    <tr>\n",
       "      <th>100</th>\n",
       "      <td>0.0</td>\n",
       "      <td>0.5</td>\n",
       "      <td>0.5</td>\n",
       "      <td>0.0</td>\n",
       "      <td>1.0</td>\n",
       "      <td>0.0</td>\n",
       "      <td>non-bankruptcy</td>\n",
       "    </tr>\n",
       "    <tr>\n",
       "      <th>101</th>\n",
       "      <td>0.5</td>\n",
       "      <td>1.0</td>\n",
       "      <td>0.0</td>\n",
       "      <td>0.0</td>\n",
       "      <td>1.0</td>\n",
       "      <td>0.0</td>\n",
       "      <td>non-bankruptcy</td>\n",
       "    </tr>\n",
       "    <tr>\n",
       "      <th>102</th>\n",
       "      <td>0.0</td>\n",
       "      <td>1.0</td>\n",
       "      <td>0.5</td>\n",
       "      <td>0.0</td>\n",
       "      <td>0.5</td>\n",
       "      <td>0.0</td>\n",
       "      <td>non-bankruptcy</td>\n",
       "    </tr>\n",
       "  </tbody>\n",
       "</table>\n",
       "</div>"
      ],
      "text/plain": [
       "     industrial_risk  management_risk  financial_flexibility  credibility  \\\n",
       "98               0.0              0.5                    0.0          0.5   \n",
       "99               0.0              0.5                    0.5          0.5   \n",
       "100              0.0              0.5                    0.5          0.0   \n",
       "101              0.5              1.0                    0.0          0.0   \n",
       "102              0.0              1.0                    0.5          0.0   \n",
       "\n",
       "     competitiveness  operating_risk target_variable  \n",
       "98               1.0             0.5  non-bankruptcy  \n",
       "99               1.0             0.5  non-bankruptcy  \n",
       "100              1.0             0.0  non-bankruptcy  \n",
       "101              1.0             0.0  non-bankruptcy  \n",
       "102              0.5             0.0  non-bankruptcy  "
      ]
     },
     "execution_count": 168,
     "metadata": {},
     "output_type": "execute_result"
    }
   ],
   "source": [
    "bank_cleaned.tail()"
   ]
  },
  {
   "cell_type": "markdown",
   "id": "7a2bef54",
   "metadata": {},
   "source": [
    "So now the data is cleaned, we can apply the visualization method."
   ]
  },
  {
   "cell_type": "markdown",
   "id": "c2b63d3e",
   "metadata": {},
   "source": [
    "### Visualization"
   ]
  },
  {
   "cell_type": "markdown",
   "id": "9ef971e8",
   "metadata": {},
   "source": [
    "Let's start visualization with following plots:\n",
    "1. Box plot\n",
    "2. Histogram\n",
    "3. Countplot\n",
    "4. Voilin plot\n",
    "5. "
   ]
  },
  {
   "cell_type": "code",
   "execution_count": 169,
   "id": "779612a0",
   "metadata": {
    "ExecuteTime": {
     "end_time": "2021-11-11T11:01:02.597551Z",
     "start_time": "2021-11-11T11:01:01.920552Z"
    }
   },
   "outputs": [
    {
     "data": {
      "text/plain": [
       "<AxesSubplot:>"
      ]
     },
     "execution_count": 169,
     "metadata": {},
     "output_type": "execute_result"
    },
    {
     "data": {
      "image/png": "[encoded data removed]",
      "text/plain": [
       "<Figure size 1080x360 with 1 Axes>"
      ]
     },
     "metadata": {
      "needs_background": "light"
     },
     "output_type": "display_data"
    }
   ],
   "source": [
    "plt.figure(figsize=(15,5))\n",
    "sn.boxplot(data = bank_cleaned, palette=sn.color_palette(\"ch:2,r=.2,l=.6\"))"
   ]
  },
  {
   "cell_type": "code",
   "execution_count": 170,
   "id": "d9110f4e",
   "metadata": {
    "ExecuteTime": {
     "end_time": "2021-11-11T11:01:04.166391Z",
     "start_time": "2021-11-11T11:01:02.599545Z"
    }
   },
   "outputs": [
    {
     "data": {
      "image/png": "[encoded data removed]",
      "text/plain": [
       "<Figure size 1080x1800 with 7 Axes>"
      ]
     },
     "metadata": {
      "needs_background": "light"
     },
     "output_type": "display_data"
    }
   ],
   "source": [
    "plt.subplots(3,2, figsize = (15,25))\n",
    "i = 1\n",
    "for feature in bank_cleaned.columns:\n",
    "    plt.subplot(4,2,i)\n",
    "    sn.countplot(data = bank_cleaned, x = feature, hue='target_variable',)\n",
    "    i+=1 "
   ]
  },
  {
   "cell_type": "markdown",
   "id": "bd6e70e1",
   "metadata": {},
   "source": [
    "> 🏹 **Note:** So we have unbalanced dataset."
   ]
  },
  {
   "cell_type": "code",
   "execution_count": 171,
   "id": "52bee8ff",
   "metadata": {
    "ExecuteTime": {
     "end_time": "2021-11-11T11:01:04.500101Z",
     "start_time": "2021-11-11T11:01:04.168350Z"
    }
   },
   "outputs": [
    {
     "data": {
      "text/plain": [
       "<matplotlib.legend.Legend at 0x1d209a019d0>"
      ]
     },
     "execution_count": 171,
     "metadata": {},
     "output_type": "execute_result"
    },
    {
     "data": {
      "image/png": "[encoded data removed]",
      "text/plain": [
       "<Figure size 432x288 with 1 Axes>"
      ]
     },
     "metadata": {
      "needs_background": "light"
     },
     "output_type": "display_data"
    }
   ],
   "source": [
    "sn.scatterplot(data = bank_cleaned, x = 'industrial_risk', y = 'management_risk', hue = 'target_variable', \n",
    "               size= 'target_variable', sizes=[100,100], palette=sn.dark_palette('purple', n_colors=2))\n",
    "plt.legend(loc = 'center')"
   ]
  },
  {
   "cell_type": "code",
   "execution_count": 172,
   "id": "7a7e3f71",
   "metadata": {
    "ExecuteTime": {
     "end_time": "2021-11-11T11:01:14.722688Z",
     "start_time": "2021-11-11T11:01:04.502495Z"
    },
    "scrolled": false
   },
   "outputs": [
    {
     "data": {
      "text/plain": [
       "<seaborn.axisgrid.PairGrid at 0x1d20800deb0>"
      ]
     },
     "execution_count": 172,
     "metadata": {},
     "output_type": "execute_result"
    },
    {
     "data": {
      "text/plain": [
       "<Figure size 1440x3600 with 0 Axes>"
      ]
     },
     "metadata": {},
     "output_type": "display_data"
    },
    {
     "data": {
      "image/png": "[encoded data removed]",
      "text/plain": [
       "<Figure size 1194.88x1080 with 27 Axes>"
      ]
     },
     "metadata": {
      "needs_background": "light"
     },
     "output_type": "display_data"
    }
   ],
   "source": [
    "plt.figure(figsize=(20,50))\n",
    "sn.pairplot(data = bank_cleaned, hue = 'target_variable', markers=['o', 'D'], corner=True)"
   ]
  },
  {
   "cell_type": "code",
   "execution_count": 173,
   "id": "c1bf4425",
   "metadata": {
    "ExecuteTime": {
     "end_time": "2021-11-11T11:01:30.238368Z",
     "start_time": "2021-11-11T11:01:14.724948Z"
    }
   },
   "outputs": [
    {
     "data": {
      "text/plain": [
       "<seaborn.axisgrid.PairGrid at 0x1d209ae13d0>"
      ]
     },
     "execution_count": 173,
     "metadata": {},
     "output_type": "execute_result"
    },
    {
     "data": {
      "image/png": "[encoded data removed]",
      "text/plain": [
       "<Figure size 1194.88x1080 with 42 Axes>"
      ]
     },
     "metadata": {
      "needs_background": "light"
     },
     "output_type": "display_data"
    }
   ],
   "source": [
    "g = sn.PairGrid(data = bank_cleaned, hue='target_variable')\n",
    "g.map_diag(sn.kdeplot)\n",
    "g.map_offdiag(sn.scatterplot)\n",
    "g.add_legend()"
   ]
  },
  {
   "cell_type": "markdown",
   "id": "4cc32880",
   "metadata": {},
   "source": [
    "> **🏹 NOTE:** If we take a look at the competitiveness, when it is equal to 0 regardless of other features the company going to bankrupt and also \n",
    "\n",
    "> **Note that** the competitiveness means the ability of company to compete with other company. if it is zero, hence company can't compete with other so it will go bankrupt"
   ]
  },
  {
   "cell_type": "markdown",
   "id": "487c2885",
   "metadata": {},
   "source": [
    "**fun-fact 😂** if we just take the competitiveness, we can easily predict that the company will be bankrupt or not. we just don't need other variables. 😅\n",
    "\n",
    "> **Let's take a look at it**"
   ]
  },
  {
   "cell_type": "code",
   "execution_count": 174,
   "id": "189f7317",
   "metadata": {
    "ExecuteTime": {
     "end_time": "2021-11-11T11:01:30.286491Z",
     "start_time": "2021-11-11T11:01:30.241321Z"
    },
    "scrolled": true
   },
   "outputs": [
    {
     "data": {
      "text/html": [
       "<div>\n",
       "<style scoped>\n",
       "    .dataframe tbody tr th:only-of-type {\n",
       "        vertical-align: middle;\n",
       "    }\n",
       "\n",
       "    .dataframe tbody tr th {\n",
       "        vertical-align: top;\n",
       "    }\n",
       "\n",
       "    .dataframe thead th {\n",
       "        text-align: right;\n",
       "    }\n",
       "</style>\n",
       "<table border=\"1\" class=\"dataframe\">\n",
       "  <thead>\n",
       "    <tr style=\"text-align: right;\">\n",
       "      <th></th>\n",
       "      <th>industrial_risk</th>\n",
       "      <th>management_risk</th>\n",
       "      <th>financial_flexibility</th>\n",
       "      <th>credibility</th>\n",
       "      <th>competitiveness</th>\n",
       "      <th>operating_risk</th>\n",
       "      <th>target_variable</th>\n",
       "    </tr>\n",
       "  </thead>\n",
       "  <tbody>\n",
       "    <tr>\n",
       "      <th>0</th>\n",
       "      <td>0.5</td>\n",
       "      <td>1.0</td>\n",
       "      <td>0.0</td>\n",
       "      <td>0.0</td>\n",
       "      <td>0.0</td>\n",
       "      <td>0.5</td>\n",
       "      <td>bankruptcy</td>\n",
       "    </tr>\n",
       "    <tr>\n",
       "      <th>1</th>\n",
       "      <td>0.0</td>\n",
       "      <td>1.0</td>\n",
       "      <td>0.0</td>\n",
       "      <td>0.0</td>\n",
       "      <td>0.0</td>\n",
       "      <td>1.0</td>\n",
       "      <td>bankruptcy</td>\n",
       "    </tr>\n",
       "    <tr>\n",
       "      <th>2</th>\n",
       "      <td>1.0</td>\n",
       "      <td>0.0</td>\n",
       "      <td>0.0</td>\n",
       "      <td>0.0</td>\n",
       "      <td>0.0</td>\n",
       "      <td>1.0</td>\n",
       "      <td>bankruptcy</td>\n",
       "    </tr>\n",
       "    <tr>\n",
       "      <th>3</th>\n",
       "      <td>0.5</td>\n",
       "      <td>0.0</td>\n",
       "      <td>0.0</td>\n",
       "      <td>0.5</td>\n",
       "      <td>0.0</td>\n",
       "      <td>1.0</td>\n",
       "      <td>bankruptcy</td>\n",
       "    </tr>\n",
       "    <tr>\n",
       "      <th>4</th>\n",
       "      <td>1.0</td>\n",
       "      <td>1.0</td>\n",
       "      <td>0.0</td>\n",
       "      <td>0.0</td>\n",
       "      <td>0.0</td>\n",
       "      <td>1.0</td>\n",
       "      <td>bankruptcy</td>\n",
       "    </tr>\n",
       "    <tr>\n",
       "      <th>5</th>\n",
       "      <td>1.0</td>\n",
       "      <td>1.0</td>\n",
       "      <td>0.0</td>\n",
       "      <td>0.5</td>\n",
       "      <td>0.0</td>\n",
       "      <td>0.5</td>\n",
       "      <td>bankruptcy</td>\n",
       "    </tr>\n",
       "    <tr>\n",
       "      <th>6</th>\n",
       "      <td>1.0</td>\n",
       "      <td>1.0</td>\n",
       "      <td>0.0</td>\n",
       "      <td>0.0</td>\n",
       "      <td>0.0</td>\n",
       "      <td>0.0</td>\n",
       "      <td>bankruptcy</td>\n",
       "    </tr>\n",
       "    <tr>\n",
       "      <th>7</th>\n",
       "      <td>1.0</td>\n",
       "      <td>1.0</td>\n",
       "      <td>0.0</td>\n",
       "      <td>0.0</td>\n",
       "      <td>0.0</td>\n",
       "      <td>0.5</td>\n",
       "      <td>bankruptcy</td>\n",
       "    </tr>\n",
       "    <tr>\n",
       "      <th>8</th>\n",
       "      <td>1.0</td>\n",
       "      <td>1.0</td>\n",
       "      <td>0.0</td>\n",
       "      <td>0.5</td>\n",
       "      <td>0.0</td>\n",
       "      <td>0.0</td>\n",
       "      <td>bankruptcy</td>\n",
       "    </tr>\n",
       "    <tr>\n",
       "      <th>9</th>\n",
       "      <td>1.0</td>\n",
       "      <td>1.0</td>\n",
       "      <td>0.0</td>\n",
       "      <td>0.5</td>\n",
       "      <td>0.0</td>\n",
       "      <td>1.0</td>\n",
       "      <td>bankruptcy</td>\n",
       "    </tr>\n",
       "    <tr>\n",
       "      <th>10</th>\n",
       "      <td>1.0</td>\n",
       "      <td>1.0</td>\n",
       "      <td>0.5</td>\n",
       "      <td>0.0</td>\n",
       "      <td>0.0</td>\n",
       "      <td>1.0</td>\n",
       "      <td>bankruptcy</td>\n",
       "    </tr>\n",
       "    <tr>\n",
       "      <th>11</th>\n",
       "      <td>0.5</td>\n",
       "      <td>1.0</td>\n",
       "      <td>0.0</td>\n",
       "      <td>0.0</td>\n",
       "      <td>0.0</td>\n",
       "      <td>1.0</td>\n",
       "      <td>bankruptcy</td>\n",
       "    </tr>\n",
       "    <tr>\n",
       "      <th>13</th>\n",
       "      <td>0.5</td>\n",
       "      <td>0.5</td>\n",
       "      <td>0.0</td>\n",
       "      <td>0.0</td>\n",
       "      <td>0.0</td>\n",
       "      <td>0.0</td>\n",
       "      <td>bankruptcy</td>\n",
       "    </tr>\n",
       "    <tr>\n",
       "      <th>14</th>\n",
       "      <td>0.0</td>\n",
       "      <td>0.5</td>\n",
       "      <td>0.0</td>\n",
       "      <td>0.0</td>\n",
       "      <td>0.0</td>\n",
       "      <td>0.5</td>\n",
       "      <td>bankruptcy</td>\n",
       "    </tr>\n",
       "    <tr>\n",
       "      <th>15</th>\n",
       "      <td>0.0</td>\n",
       "      <td>1.0</td>\n",
       "      <td>0.0</td>\n",
       "      <td>0.0</td>\n",
       "      <td>0.0</td>\n",
       "      <td>0.0</td>\n",
       "      <td>bankruptcy</td>\n",
       "    </tr>\n",
       "    <tr>\n",
       "      <th>16</th>\n",
       "      <td>0.0</td>\n",
       "      <td>0.5</td>\n",
       "      <td>0.0</td>\n",
       "      <td>0.0</td>\n",
       "      <td>0.0</td>\n",
       "      <td>1.0</td>\n",
       "      <td>bankruptcy</td>\n",
       "    </tr>\n",
       "    <tr>\n",
       "      <th>17</th>\n",
       "      <td>1.0</td>\n",
       "      <td>0.5</td>\n",
       "      <td>0.0</td>\n",
       "      <td>0.0</td>\n",
       "      <td>0.0</td>\n",
       "      <td>0.0</td>\n",
       "      <td>bankruptcy</td>\n",
       "    </tr>\n",
       "    <tr>\n",
       "      <th>18</th>\n",
       "      <td>0.5</td>\n",
       "      <td>0.5</td>\n",
       "      <td>0.0</td>\n",
       "      <td>0.0</td>\n",
       "      <td>0.0</td>\n",
       "      <td>1.0</td>\n",
       "      <td>bankruptcy</td>\n",
       "    </tr>\n",
       "    <tr>\n",
       "      <th>19</th>\n",
       "      <td>0.0</td>\n",
       "      <td>0.0</td>\n",
       "      <td>0.0</td>\n",
       "      <td>0.0</td>\n",
       "      <td>0.0</td>\n",
       "      <td>1.0</td>\n",
       "      <td>bankruptcy</td>\n",
       "    </tr>\n",
       "    <tr>\n",
       "      <th>20</th>\n",
       "      <td>0.5</td>\n",
       "      <td>0.0</td>\n",
       "      <td>0.0</td>\n",
       "      <td>0.0</td>\n",
       "      <td>0.0</td>\n",
       "      <td>1.0</td>\n",
       "      <td>bankruptcy</td>\n",
       "    </tr>\n",
       "    <tr>\n",
       "      <th>21</th>\n",
       "      <td>1.0</td>\n",
       "      <td>0.5</td>\n",
       "      <td>0.0</td>\n",
       "      <td>0.0</td>\n",
       "      <td>0.0</td>\n",
       "      <td>1.0</td>\n",
       "      <td>bankruptcy</td>\n",
       "    </tr>\n",
       "    <tr>\n",
       "      <th>22</th>\n",
       "      <td>1.0</td>\n",
       "      <td>1.0</td>\n",
       "      <td>0.0</td>\n",
       "      <td>1.0</td>\n",
       "      <td>0.0</td>\n",
       "      <td>0.0</td>\n",
       "      <td>bankruptcy</td>\n",
       "    </tr>\n",
       "    <tr>\n",
       "      <th>23</th>\n",
       "      <td>1.0</td>\n",
       "      <td>1.0</td>\n",
       "      <td>0.0</td>\n",
       "      <td>1.0</td>\n",
       "      <td>0.0</td>\n",
       "      <td>1.0</td>\n",
       "      <td>bankruptcy</td>\n",
       "    </tr>\n",
       "    <tr>\n",
       "      <th>24</th>\n",
       "      <td>1.0</td>\n",
       "      <td>0.5</td>\n",
       "      <td>1.0</td>\n",
       "      <td>0.5</td>\n",
       "      <td>0.0</td>\n",
       "      <td>0.0</td>\n",
       "      <td>bankruptcy</td>\n",
       "    </tr>\n",
       "  </tbody>\n",
       "</table>\n",
       "</div>"
      ],
      "text/plain": [
       "    industrial_risk  management_risk  financial_flexibility  credibility  \\\n",
       "0               0.5              1.0                    0.0          0.0   \n",
       "1               0.0              1.0                    0.0          0.0   \n",
       "2               1.0              0.0                    0.0          0.0   \n",
       "3               0.5              0.0                    0.0          0.5   \n",
       "4               1.0              1.0                    0.0          0.0   \n",
       "5               1.0              1.0                    0.0          0.5   \n",
       "6               1.0              1.0                    0.0          0.0   \n",
       "7               1.0              1.0                    0.0          0.0   \n",
       "8               1.0              1.0                    0.0          0.5   \n",
       "9               1.0              1.0                    0.0          0.5   \n",
       "10              1.0              1.0                    0.5          0.0   \n",
       "11              0.5              1.0                    0.0          0.0   \n",
       "13              0.5              0.5                    0.0          0.0   \n",
       "14              0.0              0.5                    0.0          0.0   \n",
       "15              0.0              1.0                    0.0          0.0   \n",
       "16              0.0              0.5                    0.0          0.0   \n",
       "17              1.0              0.5                    0.0          0.0   \n",
       "18              0.5              0.5                    0.0          0.0   \n",
       "19              0.0              0.0                    0.0          0.0   \n",
       "20              0.5              0.0                    0.0          0.0   \n",
       "21              1.0              0.5                    0.0          0.0   \n",
       "22              1.0              1.0                    0.0          1.0   \n",
       "23              1.0              1.0                    0.0          1.0   \n",
       "24              1.0              0.5                    1.0          0.5   \n",
       "\n",
       "    competitiveness  operating_risk target_variable  \n",
       "0               0.0             0.5      bankruptcy  \n",
       "1               0.0             1.0      bankruptcy  \n",
       "2               0.0             1.0      bankruptcy  \n",
       "3               0.0             1.0      bankruptcy  \n",
       "4               0.0             1.0      bankruptcy  \n",
       "5               0.0             0.5      bankruptcy  \n",
       "6               0.0             0.0      bankruptcy  \n",
       "7               0.0             0.5      bankruptcy  \n",
       "8               0.0             0.0      bankruptcy  \n",
       "9               0.0             1.0      bankruptcy  \n",
       "10              0.0             1.0      bankruptcy  \n",
       "11              0.0             1.0      bankruptcy  \n",
       "13              0.0             0.0      bankruptcy  \n",
       "14              0.0             0.5      bankruptcy  \n",
       "15              0.0             0.0      bankruptcy  \n",
       "16              0.0             1.0      bankruptcy  \n",
       "17              0.0             0.0      bankruptcy  \n",
       "18              0.0             1.0      bankruptcy  \n",
       "19              0.0             1.0      bankruptcy  \n",
       "20              0.0             1.0      bankruptcy  \n",
       "21              0.0             1.0      bankruptcy  \n",
       "22              0.0             0.0      bankruptcy  \n",
       "23              0.0             1.0      bankruptcy  \n",
       "24              0.0             0.0      bankruptcy  "
      ]
     },
     "execution_count": 174,
     "metadata": {},
     "output_type": "execute_result"
    }
   ],
   "source": [
    "bank_cleaned[bank_cleaned.competitiveness == 0]"
   ]
  },
  {
   "cell_type": "markdown",
   "id": "90d83143",
   "metadata": {},
   "source": [
    "> 🤣🤣🤣😂😂😂 **As expected** there is no need to create model now, right? 😂😁"
   ]
  },
  {
   "cell_type": "code",
   "execution_count": 175,
   "id": "d12592ac",
   "metadata": {
    "ExecuteTime": {
     "end_time": "2021-11-11T11:01:30.442834Z",
     "start_time": "2021-11-11T11:01:30.288195Z"
    }
   },
   "outputs": [
    {
     "data": {
      "text/html": [
       "<div>\n",
       "<style scoped>\n",
       "    .dataframe tbody tr th:only-of-type {\n",
       "        vertical-align: middle;\n",
       "    }\n",
       "\n",
       "    .dataframe tbody tr th {\n",
       "        vertical-align: top;\n",
       "    }\n",
       "\n",
       "    .dataframe thead th {\n",
       "        text-align: right;\n",
       "    }\n",
       "</style>\n",
       "<table border=\"1\" class=\"dataframe\">\n",
       "  <thead>\n",
       "    <tr style=\"text-align: right;\">\n",
       "      <th></th>\n",
       "      <th>industrial_risk</th>\n",
       "      <th>management_risk</th>\n",
       "      <th>financial_flexibility</th>\n",
       "      <th>credibility</th>\n",
       "      <th>competitiveness</th>\n",
       "      <th>operating_risk</th>\n",
       "      <th>target_variable</th>\n",
       "    </tr>\n",
       "  </thead>\n",
       "  <tbody>\n",
       "    <tr>\n",
       "      <th>0</th>\n",
       "      <td>0.5</td>\n",
       "      <td>1.0</td>\n",
       "      <td>0.0</td>\n",
       "      <td>0.0</td>\n",
       "      <td>0.0</td>\n",
       "      <td>0.5</td>\n",
       "      <td>bankruptcy</td>\n",
       "    </tr>\n",
       "    <tr>\n",
       "      <th>1</th>\n",
       "      <td>0.0</td>\n",
       "      <td>1.0</td>\n",
       "      <td>0.0</td>\n",
       "      <td>0.0</td>\n",
       "      <td>0.0</td>\n",
       "      <td>1.0</td>\n",
       "      <td>bankruptcy</td>\n",
       "    </tr>\n",
       "    <tr>\n",
       "      <th>2</th>\n",
       "      <td>1.0</td>\n",
       "      <td>0.0</td>\n",
       "      <td>0.0</td>\n",
       "      <td>0.0</td>\n",
       "      <td>0.0</td>\n",
       "      <td>1.0</td>\n",
       "      <td>bankruptcy</td>\n",
       "    </tr>\n",
       "    <tr>\n",
       "      <th>3</th>\n",
       "      <td>0.5</td>\n",
       "      <td>0.0</td>\n",
       "      <td>0.0</td>\n",
       "      <td>0.5</td>\n",
       "      <td>0.0</td>\n",
       "      <td>1.0</td>\n",
       "      <td>bankruptcy</td>\n",
       "    </tr>\n",
       "    <tr>\n",
       "      <th>4</th>\n",
       "      <td>1.0</td>\n",
       "      <td>1.0</td>\n",
       "      <td>0.0</td>\n",
       "      <td>0.0</td>\n",
       "      <td>0.0</td>\n",
       "      <td>1.0</td>\n",
       "      <td>bankruptcy</td>\n",
       "    </tr>\n",
       "    <tr>\n",
       "      <th>5</th>\n",
       "      <td>1.0</td>\n",
       "      <td>1.0</td>\n",
       "      <td>0.0</td>\n",
       "      <td>0.5</td>\n",
       "      <td>0.0</td>\n",
       "      <td>0.5</td>\n",
       "      <td>bankruptcy</td>\n",
       "    </tr>\n",
       "    <tr>\n",
       "      <th>6</th>\n",
       "      <td>1.0</td>\n",
       "      <td>1.0</td>\n",
       "      <td>0.0</td>\n",
       "      <td>0.0</td>\n",
       "      <td>0.0</td>\n",
       "      <td>0.0</td>\n",
       "      <td>bankruptcy</td>\n",
       "    </tr>\n",
       "    <tr>\n",
       "      <th>7</th>\n",
       "      <td>1.0</td>\n",
       "      <td>1.0</td>\n",
       "      <td>0.0</td>\n",
       "      <td>0.0</td>\n",
       "      <td>0.0</td>\n",
       "      <td>0.5</td>\n",
       "      <td>bankruptcy</td>\n",
       "    </tr>\n",
       "    <tr>\n",
       "      <th>8</th>\n",
       "      <td>1.0</td>\n",
       "      <td>1.0</td>\n",
       "      <td>0.0</td>\n",
       "      <td>0.5</td>\n",
       "      <td>0.0</td>\n",
       "      <td>0.0</td>\n",
       "      <td>bankruptcy</td>\n",
       "    </tr>\n",
       "    <tr>\n",
       "      <th>9</th>\n",
       "      <td>1.0</td>\n",
       "      <td>1.0</td>\n",
       "      <td>0.0</td>\n",
       "      <td>0.5</td>\n",
       "      <td>0.0</td>\n",
       "      <td>1.0</td>\n",
       "      <td>bankruptcy</td>\n",
       "    </tr>\n",
       "    <tr>\n",
       "      <th>10</th>\n",
       "      <td>1.0</td>\n",
       "      <td>1.0</td>\n",
       "      <td>0.5</td>\n",
       "      <td>0.0</td>\n",
       "      <td>0.0</td>\n",
       "      <td>1.0</td>\n",
       "      <td>bankruptcy</td>\n",
       "    </tr>\n",
       "    <tr>\n",
       "      <th>11</th>\n",
       "      <td>0.5</td>\n",
       "      <td>1.0</td>\n",
       "      <td>0.0</td>\n",
       "      <td>0.0</td>\n",
       "      <td>0.0</td>\n",
       "      <td>1.0</td>\n",
       "      <td>bankruptcy</td>\n",
       "    </tr>\n",
       "    <tr>\n",
       "      <th>12</th>\n",
       "      <td>0.0</td>\n",
       "      <td>1.0</td>\n",
       "      <td>0.0</td>\n",
       "      <td>0.0</td>\n",
       "      <td>0.5</td>\n",
       "      <td>0.5</td>\n",
       "      <td>bankruptcy</td>\n",
       "    </tr>\n",
       "    <tr>\n",
       "      <th>13</th>\n",
       "      <td>0.5</td>\n",
       "      <td>0.5</td>\n",
       "      <td>0.0</td>\n",
       "      <td>0.0</td>\n",
       "      <td>0.0</td>\n",
       "      <td>0.0</td>\n",
       "      <td>bankruptcy</td>\n",
       "    </tr>\n",
       "    <tr>\n",
       "      <th>14</th>\n",
       "      <td>0.0</td>\n",
       "      <td>0.5</td>\n",
       "      <td>0.0</td>\n",
       "      <td>0.0</td>\n",
       "      <td>0.0</td>\n",
       "      <td>0.5</td>\n",
       "      <td>bankruptcy</td>\n",
       "    </tr>\n",
       "    <tr>\n",
       "      <th>15</th>\n",
       "      <td>0.0</td>\n",
       "      <td>1.0</td>\n",
       "      <td>0.0</td>\n",
       "      <td>0.0</td>\n",
       "      <td>0.0</td>\n",
       "      <td>0.0</td>\n",
       "      <td>bankruptcy</td>\n",
       "    </tr>\n",
       "    <tr>\n",
       "      <th>16</th>\n",
       "      <td>0.0</td>\n",
       "      <td>0.5</td>\n",
       "      <td>0.0</td>\n",
       "      <td>0.0</td>\n",
       "      <td>0.0</td>\n",
       "      <td>1.0</td>\n",
       "      <td>bankruptcy</td>\n",
       "    </tr>\n",
       "    <tr>\n",
       "      <th>17</th>\n",
       "      <td>1.0</td>\n",
       "      <td>0.5</td>\n",
       "      <td>0.0</td>\n",
       "      <td>0.0</td>\n",
       "      <td>0.0</td>\n",
       "      <td>0.0</td>\n",
       "      <td>bankruptcy</td>\n",
       "    </tr>\n",
       "    <tr>\n",
       "      <th>18</th>\n",
       "      <td>0.5</td>\n",
       "      <td>0.5</td>\n",
       "      <td>0.0</td>\n",
       "      <td>0.0</td>\n",
       "      <td>0.0</td>\n",
       "      <td>1.0</td>\n",
       "      <td>bankruptcy</td>\n",
       "    </tr>\n",
       "    <tr>\n",
       "      <th>19</th>\n",
       "      <td>0.0</td>\n",
       "      <td>0.0</td>\n",
       "      <td>0.0</td>\n",
       "      <td>0.0</td>\n",
       "      <td>0.0</td>\n",
       "      <td>1.0</td>\n",
       "      <td>bankruptcy</td>\n",
       "    </tr>\n",
       "    <tr>\n",
       "      <th>20</th>\n",
       "      <td>0.5</td>\n",
       "      <td>0.0</td>\n",
       "      <td>0.0</td>\n",
       "      <td>0.0</td>\n",
       "      <td>0.0</td>\n",
       "      <td>1.0</td>\n",
       "      <td>bankruptcy</td>\n",
       "    </tr>\n",
       "    <tr>\n",
       "      <th>21</th>\n",
       "      <td>1.0</td>\n",
       "      <td>0.5</td>\n",
       "      <td>0.0</td>\n",
       "      <td>0.0</td>\n",
       "      <td>0.0</td>\n",
       "      <td>1.0</td>\n",
       "      <td>bankruptcy</td>\n",
       "    </tr>\n",
       "    <tr>\n",
       "      <th>22</th>\n",
       "      <td>1.0</td>\n",
       "      <td>1.0</td>\n",
       "      <td>0.0</td>\n",
       "      <td>1.0</td>\n",
       "      <td>0.0</td>\n",
       "      <td>0.0</td>\n",
       "      <td>bankruptcy</td>\n",
       "    </tr>\n",
       "    <tr>\n",
       "      <th>23</th>\n",
       "      <td>1.0</td>\n",
       "      <td>1.0</td>\n",
       "      <td>0.0</td>\n",
       "      <td>1.0</td>\n",
       "      <td>0.0</td>\n",
       "      <td>1.0</td>\n",
       "      <td>bankruptcy</td>\n",
       "    </tr>\n",
       "    <tr>\n",
       "      <th>24</th>\n",
       "      <td>1.0</td>\n",
       "      <td>0.5</td>\n",
       "      <td>1.0</td>\n",
       "      <td>0.5</td>\n",
       "      <td>0.0</td>\n",
       "      <td>0.0</td>\n",
       "      <td>bankruptcy</td>\n",
       "    </tr>\n",
       "  </tbody>\n",
       "</table>\n",
       "</div>"
      ],
      "text/plain": [
       "    industrial_risk  management_risk  financial_flexibility  credibility  \\\n",
       "0               0.5              1.0                    0.0          0.0   \n",
       "1               0.0              1.0                    0.0          0.0   \n",
       "2               1.0              0.0                    0.0          0.0   \n",
       "3               0.5              0.0                    0.0          0.5   \n",
       "4               1.0              1.0                    0.0          0.0   \n",
       "5               1.0              1.0                    0.0          0.5   \n",
       "6               1.0              1.0                    0.0          0.0   \n",
       "7               1.0              1.0                    0.0          0.0   \n",
       "8               1.0              1.0                    0.0          0.5   \n",
       "9               1.0              1.0                    0.0          0.5   \n",
       "10              1.0              1.0                    0.5          0.0   \n",
       "11              0.5              1.0                    0.0          0.0   \n",
       "12              0.0              1.0                    0.0          0.0   \n",
       "13              0.5              0.5                    0.0          0.0   \n",
       "14              0.0              0.5                    0.0          0.0   \n",
       "15              0.0              1.0                    0.0          0.0   \n",
       "16              0.0              0.5                    0.0          0.0   \n",
       "17              1.0              0.5                    0.0          0.0   \n",
       "18              0.5              0.5                    0.0          0.0   \n",
       "19              0.0              0.0                    0.0          0.0   \n",
       "20              0.5              0.0                    0.0          0.0   \n",
       "21              1.0              0.5                    0.0          0.0   \n",
       "22              1.0              1.0                    0.0          1.0   \n",
       "23              1.0              1.0                    0.0          1.0   \n",
       "24              1.0              0.5                    1.0          0.5   \n",
       "\n",
       "    competitiveness  operating_risk target_variable  \n",
       "0               0.0             0.5      bankruptcy  \n",
       "1               0.0             1.0      bankruptcy  \n",
       "2               0.0             1.0      bankruptcy  \n",
       "3               0.0             1.0      bankruptcy  \n",
       "4               0.0             1.0      bankruptcy  \n",
       "5               0.0             0.5      bankruptcy  \n",
       "6               0.0             0.0      bankruptcy  \n",
       "7               0.0             0.5      bankruptcy  \n",
       "8               0.0             0.0      bankruptcy  \n",
       "9               0.0             1.0      bankruptcy  \n",
       "10              0.0             1.0      bankruptcy  \n",
       "11              0.0             1.0      bankruptcy  \n",
       "12              0.5             0.5      bankruptcy  \n",
       "13              0.0             0.0      bankruptcy  \n",
       "14              0.0             0.5      bankruptcy  \n",
       "15              0.0             0.0      bankruptcy  \n",
       "16              0.0             1.0      bankruptcy  \n",
       "17              0.0             0.0      bankruptcy  \n",
       "18              0.0             1.0      bankruptcy  \n",
       "19              0.0             1.0      bankruptcy  \n",
       "20              0.0             1.0      bankruptcy  \n",
       "21              0.0             1.0      bankruptcy  \n",
       "22              0.0             0.0      bankruptcy  \n",
       "23              0.0             1.0      bankruptcy  \n",
       "24              0.0             0.0      bankruptcy  "
      ]
     },
     "execution_count": 175,
     "metadata": {},
     "output_type": "execute_result"
    }
   ],
   "source": [
    "bank_cleaned[bank_cleaned.target_variable == 'bankruptcy']"
   ]
  },
  {
   "cell_type": "code",
   "execution_count": 176,
   "id": "a99e9e09",
   "metadata": {
    "ExecuteTime": {
     "end_time": "2021-11-11T11:01:31.224587Z",
     "start_time": "2021-11-11T11:01:30.444794Z"
    }
   },
   "outputs": [
    {
     "data": {
      "text/plain": [
       "<AxesSubplot:>"
      ]
     },
     "execution_count": 176,
     "metadata": {},
     "output_type": "execute_result"
    },
    {
     "data": {
      "image/png": "[encoded data removed]",
      "text/plain": [
       "<Figure size 720x576 with 2 Axes>"
      ]
     },
     "metadata": {
      "needs_background": "light"
     },
     "output_type": "display_data"
    }
   ],
   "source": [
    "plt.figure(figsize=(10,8))\n",
    "sn.heatmap(bank_cleaned.corr(), annot=True)"
   ]
  },
  {
   "cell_type": "markdown",
   "id": "cb71b17a",
   "metadata": {},
   "source": [
    "**Some key observation:**\n",
    "\n",
    "1. We have categorical variables for features and target variable. so actually looking for outliers, correlation doesn't make any sense.\n",
    "2. Distribution plot will show us the count of various feature variables.\n",
    "3. The most important result came from the scatter plot or pairplot regarding **Competitiveness**.\n",
    "4. There are lots of duplicate values.\n",
    "5. Mathematically the **largest possible size of data will be 1458 unique rows**"
   ]
  },
  {
   "cell_type": "markdown",
   "id": "83f81c28",
   "metadata": {},
   "source": [
    "### Encoding categorical variables"
   ]
  },
  {
   "cell_type": "code",
   "execution_count": 177,
   "id": "f345d18d",
   "metadata": {
    "ExecuteTime": {
     "end_time": "2021-11-11T11:01:31.239552Z",
     "start_time": "2021-11-11T11:01:31.226581Z"
    }
   },
   "outputs": [],
   "source": [
    "from sklearn.preprocessing import LabelEncoder"
   ]
  },
  {
   "cell_type": "code",
   "execution_count": 178,
   "id": "b4f1e8a5",
   "metadata": {
    "ExecuteTime": {
     "end_time": "2021-11-11T11:01:31.410642Z",
     "start_time": "2021-11-11T11:01:31.242539Z"
    }
   },
   "outputs": [
    {
     "data": {
      "text/plain": [
       "array(['bankruptcy', 'non-bankruptcy'], dtype=object)"
      ]
     },
     "execution_count": 178,
     "metadata": {},
     "output_type": "execute_result"
    }
   ],
   "source": [
    "bank_cleaned['target_variable'].unique()"
   ]
  },
  {
   "cell_type": "code",
   "execution_count": 179,
   "id": "bcc3cdc6",
   "metadata": {
    "ExecuteTime": {
     "end_time": "2021-11-11T11:01:31.503018Z",
     "start_time": "2021-11-11T11:01:31.412609Z"
    }
   },
   "outputs": [],
   "source": [
    "def encode_manually(data):\n",
    "    for feature in data.columns:\n",
    "        if data[feature].dtype == object:\n",
    "            print(f'Encoding {feature}:')\n",
    "            variables = list(data[feature].unique())\n",
    "            encode_number = range(len(variables))\n",
    "            encodings_dict = dict(zip(variables, encode_number))\n",
    "            print(encodings_dict)\n",
    "            data[feature]=data[feature].map(encodings_dict)"
   ]
  },
  {
   "cell_type": "code",
   "execution_count": 180,
   "id": "985ba394",
   "metadata": {
    "ExecuteTime": {
     "end_time": "2021-11-11T11:01:31.597107Z",
     "start_time": "2021-11-11T11:01:31.509888Z"
    }
   },
   "outputs": [
    {
     "name": "stdout",
     "output_type": "stream",
     "text": [
      "Encoding target_variable:\n",
      "{'bankruptcy': 0, 'non-bankruptcy': 1}\n"
     ]
    }
   ],
   "source": [
    "encode_manually(bank_cleaned)"
   ]
  },
  {
   "cell_type": "code",
   "execution_count": 181,
   "id": "ebe449e6",
   "metadata": {
    "ExecuteTime": {
     "end_time": "2021-11-11T11:01:31.738669Z",
     "start_time": "2021-11-11T11:01:31.599949Z"
    }
   },
   "outputs": [
    {
     "data": {
      "text/html": [
       "<div>\n",
       "<style scoped>\n",
       "    .dataframe tbody tr th:only-of-type {\n",
       "        vertical-align: middle;\n",
       "    }\n",
       "\n",
       "    .dataframe tbody tr th {\n",
       "        vertical-align: top;\n",
       "    }\n",
       "\n",
       "    .dataframe thead th {\n",
       "        text-align: right;\n",
       "    }\n",
       "</style>\n",
       "<table border=\"1\" class=\"dataframe\">\n",
       "  <thead>\n",
       "    <tr style=\"text-align: right;\">\n",
       "      <th></th>\n",
       "      <th>industrial_risk</th>\n",
       "      <th>management_risk</th>\n",
       "      <th>financial_flexibility</th>\n",
       "      <th>credibility</th>\n",
       "      <th>competitiveness</th>\n",
       "      <th>operating_risk</th>\n",
       "      <th>target_variable</th>\n",
       "    </tr>\n",
       "  </thead>\n",
       "  <tbody>\n",
       "    <tr>\n",
       "      <th>0</th>\n",
       "      <td>0.5</td>\n",
       "      <td>1.0</td>\n",
       "      <td>0.0</td>\n",
       "      <td>0.0</td>\n",
       "      <td>0.0</td>\n",
       "      <td>0.5</td>\n",
       "      <td>0</td>\n",
       "    </tr>\n",
       "    <tr>\n",
       "      <th>1</th>\n",
       "      <td>0.0</td>\n",
       "      <td>1.0</td>\n",
       "      <td>0.0</td>\n",
       "      <td>0.0</td>\n",
       "      <td>0.0</td>\n",
       "      <td>1.0</td>\n",
       "      <td>0</td>\n",
       "    </tr>\n",
       "    <tr>\n",
       "      <th>2</th>\n",
       "      <td>1.0</td>\n",
       "      <td>0.0</td>\n",
       "      <td>0.0</td>\n",
       "      <td>0.0</td>\n",
       "      <td>0.0</td>\n",
       "      <td>1.0</td>\n",
       "      <td>0</td>\n",
       "    </tr>\n",
       "    <tr>\n",
       "      <th>3</th>\n",
       "      <td>0.5</td>\n",
       "      <td>0.0</td>\n",
       "      <td>0.0</td>\n",
       "      <td>0.5</td>\n",
       "      <td>0.0</td>\n",
       "      <td>1.0</td>\n",
       "      <td>0</td>\n",
       "    </tr>\n",
       "    <tr>\n",
       "      <th>4</th>\n",
       "      <td>1.0</td>\n",
       "      <td>1.0</td>\n",
       "      <td>0.0</td>\n",
       "      <td>0.0</td>\n",
       "      <td>0.0</td>\n",
       "      <td>1.0</td>\n",
       "      <td>0</td>\n",
       "    </tr>\n",
       "  </tbody>\n",
       "</table>\n",
       "</div>"
      ],
      "text/plain": [
       "   industrial_risk  management_risk  financial_flexibility  credibility  \\\n",
       "0              0.5              1.0                    0.0          0.0   \n",
       "1              0.0              1.0                    0.0          0.0   \n",
       "2              1.0              0.0                    0.0          0.0   \n",
       "3              0.5              0.0                    0.0          0.5   \n",
       "4              1.0              1.0                    0.0          0.0   \n",
       "\n",
       "   competitiveness  operating_risk  target_variable  \n",
       "0              0.0             0.5                0  \n",
       "1              0.0             1.0                0  \n",
       "2              0.0             1.0                0  \n",
       "3              0.0             1.0                0  \n",
       "4              0.0             1.0                0  "
      ]
     },
     "execution_count": 181,
     "metadata": {},
     "output_type": "execute_result"
    }
   ],
   "source": [
    "bank_cleaned.head()"
   ]
  },
  {
   "cell_type": "code",
   "execution_count": 182,
   "id": "7751707e",
   "metadata": {
    "ExecuteTime": {
     "end_time": "2021-11-11T11:01:31.848766Z",
     "start_time": "2021-11-11T11:01:31.742661Z"
    }
   },
   "outputs": [
    {
     "data": {
      "text/html": [
       "<div>\n",
       "<style scoped>\n",
       "    .dataframe tbody tr th:only-of-type {\n",
       "        vertical-align: middle;\n",
       "    }\n",
       "\n",
       "    .dataframe tbody tr th {\n",
       "        vertical-align: top;\n",
       "    }\n",
       "\n",
       "    .dataframe thead th {\n",
       "        text-align: right;\n",
       "    }\n",
       "</style>\n",
       "<table border=\"1\" class=\"dataframe\">\n",
       "  <thead>\n",
       "    <tr style=\"text-align: right;\">\n",
       "      <th></th>\n",
       "      <th>industrial_risk</th>\n",
       "      <th>management_risk</th>\n",
       "      <th>financial_flexibility</th>\n",
       "      <th>credibility</th>\n",
       "      <th>competitiveness</th>\n",
       "      <th>operating_risk</th>\n",
       "      <th>target_variable</th>\n",
       "    </tr>\n",
       "  </thead>\n",
       "  <tbody>\n",
       "    <tr>\n",
       "      <th>98</th>\n",
       "      <td>0.0</td>\n",
       "      <td>0.5</td>\n",
       "      <td>0.0</td>\n",
       "      <td>0.5</td>\n",
       "      <td>1.0</td>\n",
       "      <td>0.5</td>\n",
       "      <td>1</td>\n",
       "    </tr>\n",
       "    <tr>\n",
       "      <th>99</th>\n",
       "      <td>0.0</td>\n",
       "      <td>0.5</td>\n",
       "      <td>0.5</td>\n",
       "      <td>0.5</td>\n",
       "      <td>1.0</td>\n",
       "      <td>0.5</td>\n",
       "      <td>1</td>\n",
       "    </tr>\n",
       "    <tr>\n",
       "      <th>100</th>\n",
       "      <td>0.0</td>\n",
       "      <td>0.5</td>\n",
       "      <td>0.5</td>\n",
       "      <td>0.0</td>\n",
       "      <td>1.0</td>\n",
       "      <td>0.0</td>\n",
       "      <td>1</td>\n",
       "    </tr>\n",
       "    <tr>\n",
       "      <th>101</th>\n",
       "      <td>0.5</td>\n",
       "      <td>1.0</td>\n",
       "      <td>0.0</td>\n",
       "      <td>0.0</td>\n",
       "      <td>1.0</td>\n",
       "      <td>0.0</td>\n",
       "      <td>1</td>\n",
       "    </tr>\n",
       "    <tr>\n",
       "      <th>102</th>\n",
       "      <td>0.0</td>\n",
       "      <td>1.0</td>\n",
       "      <td>0.5</td>\n",
       "      <td>0.0</td>\n",
       "      <td>0.5</td>\n",
       "      <td>0.0</td>\n",
       "      <td>1</td>\n",
       "    </tr>\n",
       "  </tbody>\n",
       "</table>\n",
       "</div>"
      ],
      "text/plain": [
       "     industrial_risk  management_risk  financial_flexibility  credibility  \\\n",
       "98               0.0              0.5                    0.0          0.5   \n",
       "99               0.0              0.5                    0.5          0.5   \n",
       "100              0.0              0.5                    0.5          0.0   \n",
       "101              0.5              1.0                    0.0          0.0   \n",
       "102              0.0              1.0                    0.5          0.0   \n",
       "\n",
       "     competitiveness  operating_risk  target_variable  \n",
       "98               1.0             0.5                1  \n",
       "99               1.0             0.5                1  \n",
       "100              1.0             0.0                1  \n",
       "101              1.0             0.0                1  \n",
       "102              0.5             0.0                1  "
      ]
     },
     "execution_count": 182,
     "metadata": {},
     "output_type": "execute_result"
    }
   ],
   "source": [
    "bank_cleaned.tail()"
   ]
  },
  {
   "cell_type": "code",
   "execution_count": null,
   "id": "252f7db9",
   "metadata": {},
   "outputs": [],
   "source": []
  }
 ],
 "metadata": {
  "gist": {
   "data": {
    "description": "Project_bankruptcy.ipynb",
    "public": false
   },
   "id": ""
  },
  "kernelspec": {
   "display_name": "Python 3",
   "language": "python",
   "name": "python3"
  },
  "language_info": {
   "codemirror_mode": {
    "name": "ipython",
    "version": 3
   },
   "file_extension": ".py",
   "mimetype": "text/x-python",
   "name": "python",
   "nbconvert_exporter": "python",
   "pygments_lexer": "ipython3",
   "version": "3.8.8"
  },
  "latex_envs": {
   "LaTeX_envs_menu_present": true,
   "autoclose": false,
   "autocomplete": true,
   "bibliofile": "biblio.bib",
   "cite_by": "apalike",
   "current_citInitial": 1,
   "eqLabelWithNumbers": true,
   "eqNumInitial": 1,
   "hotkeys": {
    "equation": "Ctrl-E",
    "itemize": "Ctrl-I"
   },
   "labels_anchors": false,
   "latex_user_defs": false,
   "report_style_numbering": false,
   "user_envs_cfg": false
  },
  "varInspector": {
   "cols": {
    "lenName": 16,
    "lenType": 16,
    "lenVar": 40
   },
   "kernels_config": {
    "python": {
     "delete_cmd_postfix": "",
     "delete_cmd_prefix": "del ",
     "library": "var_list.py",
     "varRefreshCmd": "print(var_dic_list())"
    },
    "r": {
     "delete_cmd_postfix": ") ",
     "delete_cmd_prefix": "rm(",
     "library": "var_list.r",
     "varRefreshCmd": "cat(var_dic_list()) "
    }
   },
   "types_to_exclude": [
    "module",
    "function",
    "builtin_function_or_method",
    "instance",
    "_Feature"
   ],
   "window_display": false
  }
 },
 "nbformat": 4,
 "nbformat_minor": 5
}
